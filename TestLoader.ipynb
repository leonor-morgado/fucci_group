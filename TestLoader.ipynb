{
 "cells": [
  {
   "cell_type": "code",
   "execution_count": null,
   "id": "0",
   "metadata": {},
   "outputs": [],
   "source": [
    "from FUCCIDataLoader import FUCCIDataset\n",
    "from torch.utils.data import Dataset, DataLoader\n",
    "from UnetModel import UNet\n"
   ]
  },
  {
   "cell_type": "code",
   "execution_count": null,
   "id": "1",
   "metadata": {},
   "outputs": [],
   "source": [
    "import torch\n",
    "from Train import train"
   ]
  },
  {
   "cell_type": "code",
   "execution_count": null,
   "id": "2",
   "metadata": {},
   "outputs": [],
   "source": [
    "from torchvision import transforms"
   ]
  },
  {
   "cell_type": "code",
   "execution_count": null,
   "id": "3",
   "metadata": {},
   "outputs": [],
   "source": [
    "test_data = FUCCIDataset(root_dir=\"leonor\", source_channels=0, target_channels=(0, 1), transform= transforms.RandomCrop(256))"
   ]
  },
  {
   "cell_type": "code",
   "execution_count": null,
   "id": "4",
   "metadata": {},
   "outputs": [],
   "source": [
    "len(test_data)"
   ]
  },
  {
   "cell_type": "code",
   "execution_count": null,
   "id": "5",
   "metadata": {},
   "outputs": [],
   "source": [
    "test_data.root_dir"
   ]
  },
  {
   "cell_type": "code",
   "execution_count": null,
   "id": "6",
   "metadata": {},
   "outputs": [],
   "source": [
    "test_source, test_target = test_data[1]"
   ]
  },
  {
   "cell_type": "code",
   "execution_count": null,
   "id": "7",
   "metadata": {},
   "outputs": [],
   "source": [
    "test_source.shape"
   ]
  },
  {
   "cell_type": "code",
   "execution_count": null,
   "id": "8",
   "metadata": {},
   "outputs": [],
   "source": [
    "test_target.shape"
   ]
  },
  {
   "cell_type": "code",
   "execution_count": null,
   "id": "9",
   "metadata": {},
   "outputs": [],
   "source": [
    "import napari"
   ]
  },
  {
   "cell_type": "code",
   "execution_count": null,
   "id": "10",
   "metadata": {},
   "outputs": [],
   "source": [
    "viewer = napari.Viewer()"
   ]
  },
  {
   "cell_type": "code",
   "execution_count": null,
   "id": "11",
   "metadata": {},
   "outputs": [],
   "source": [
    "viewer.add_image(test_source.detach().numpy())"
   ]
  },
  {
   "cell_type": "code",
   "execution_count": null,
   "id": "12",
   "metadata": {},
   "outputs": [],
   "source": [
    "viewer.add_image(test_target[0].detach().numpy(), colormap=\"green\", blending=\"additive\", name=\"green\")"
   ]
  },
  {
   "cell_type": "code",
   "execution_count": null,
   "id": "13",
   "metadata": {},
   "outputs": [],
   "source": [
    "viewer.add_image(test_target[1].detach().numpy(), colormap=\"magenta\", blending=\"additive\", name=\"magenta\")"
   ]
  },
  {
   "cell_type": "code",
   "execution_count": null,
   "id": "14",
   "metadata": {},
   "outputs": [],
   "source": [
    "model = UNet(depth=2, in_channels=1, out_channels=2)\n",
    "model_name = 'test1'\n",
    "#TODO tensoboard logs\n",
    "#logger = SummaryWriter(f\"unet_runs/{model_name}\")\n",
    "\n",
    "optimizer = torch.optim.Adam(model.parameters())\n",
    "loss_function: torch.nn.Module = torch.nn.MSELoss()\n",
    "\n",
    "train_loader = DataLoader(test_data)\n",
    "\n",
    "n_epochs = 1\n",
    "for epoch in range(n_epochs):\n",
    "\n",
    "    train(model, train_loader, optimizer=optimizer, loss_function=loss_function, epoch=epoch)\n",
    "    #with logger train(model, train_loader, optimizer=optimizer, loss_function=loss_function, epoch=epoch, tb_logger=logger)"
   ]
  },
  {
   "cell_type": "code",
   "execution_count": null,
   "id": "15",
   "metadata": {},
   "outputs": [],
   "source": [
    "model = UNet(depth=2, in_channels=1, out_channels=2)\n",
    "save_path = \"/group/dl4miacourse/projects/FUCCI/leonor/Models/model1.pt\"\n",
    "model.load_state_dict(torch.load(save_path))"
   ]
  },
  {
   "cell_type": "code",
   "execution_count": null,
   "id": "16",
   "metadata": {},
   "outputs": [],
   "source": [
    "1 hours 3600 s\n",
    "2 7200 s"
   ]
  }
 ],
 "metadata": {
  "kernelspec": {
   "display_name": "Python 3 (ipykernel)",
   "language": "python",
   "name": "python3"
  },
  "language_info": {
   "codemirror_mode": {
    "name": "ipython",
    "version": 3
   },
   "file_extension": ".py",
   "mimetype": "text/x-python",
   "name": "python",
   "nbconvert_exporter": "python",
   "pygments_lexer": "ipython3",
   "version": "3.10.14"
  }
 },
 "nbformat": 4,
 "nbformat_minor": 5
}
